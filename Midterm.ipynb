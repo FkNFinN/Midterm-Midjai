{
  "nbformat": 4,
  "nbformat_minor": 0,
  "metadata": {
    "colab": {
      "provenance": [],
      "authorship_tag": "ABX9TyO1D7EtrZwL+8zzhNswq3iz",
      "include_colab_link": true
    },
    "kernelspec": {
      "name": "python3",
      "display_name": "Python 3"
    },
    "language_info": {
      "name": "python"
    }
  },
  "cells": [
    {
      "cell_type": "markdown",
      "metadata": {
        "id": "view-in-github",
        "colab_type": "text"
      },
      "source": [
        "<a href=\"https://colab.research.google.com/github/FkNFinN/Midterm-Midjai/blob/main/Midterm.ipynb\" target=\"_parent\"><img src=\"https://colab.research.google.com/assets/colab-badge.svg\" alt=\"Open In Colab\"/></a>"
      ]
    },
    {
      "cell_type": "markdown",
      "source": [
        "**`It's midterm time woohoo 1/09/2023`**\n",
        "# **`Sort!!!`**"
      ],
      "metadata": {
        "id": "qk9j_NekyqTw"
      }
    },
    {
      "cell_type": "markdown",
      "source": [
        "***`Selection Sort: Find max and throw to the back \\\n",
        "O: All case (n²)`***"
      ],
      "metadata": {
        "id": "_Crec8zIzhXY"
      }
    },
    {
      "cell_type": "code",
      "source": [
        "a = [29, 10, 14, 37, 13]\n",
        "print(a)\n",
        "for i in range(len(a)):\n",
        "  for j in range(i + 1, len(a)):\n",
        "    min = a[i]\n",
        "    if a[j] < min:\n",
        "      min = a[j]\n",
        "      tmp = a[i]\n",
        "      a[i] = a[j]\n",
        "      a[j] = tmp\n",
        "print(a)"
      ],
      "metadata": {
        "colab": {
          "base_uri": "https://localhost:8080/"
        },
        "id": "f6nCN8D_zStF",
        "outputId": "284e66d2-41ac-46ba-c001-fca5358a638f"
      },
      "execution_count": 16,
      "outputs": [
        {
          "output_type": "stream",
          "name": "stdout",
          "text": [
            "[29, 10, 14, 37, 13]\n",
            "[10, 13, 14, 29, 37]\n"
          ]
        }
      ]
    },
    {
      "cell_type": "markdown",
      "source": [
        "\\\n",
        "***`Bubble sort: Switch the more to the right \\\n",
        "O: Best case (n), Avg and worst case (n²)`***"
      ],
      "metadata": {
        "id": "TaDMczqQzq6R"
      }
    },
    {
      "cell_type": "code",
      "source": [
        "a = [29, 10, 14, 37, 13]\n",
        "print(a)\n",
        "for x in range(1,len(a)):\n",
        "  for i in range(len(a)-x):\n",
        "    if a[i] > a[i+1]:\n",
        "      tmp = a[i]\n",
        "      a[i] = a[i+1]\n",
        "      a[i+1] = tmp\n",
        "print(a)"
      ],
      "metadata": {
        "colab": {
          "base_uri": "https://localhost:8080/"
        },
        "id": "gKfokARAzcC9",
        "outputId": "2521f04d-75f2-4647-83b1-4bcd14eb2c8d"
      },
      "execution_count": 17,
      "outputs": [
        {
          "output_type": "stream",
          "name": "stdout",
          "text": [
            "[29, 10, 14, 37, 13]\n",
            "[10, 13, 14, 29, 37]\n"
          ]
        }
      ]
    },
    {
      "cell_type": "markdown",
      "source": [
        "\\\n",
        "***`Insertion sort: Find the spot then insert \\\n",
        "O: Best case (n), Avg and worst case (n²)`***"
      ],
      "metadata": {
        "id": "gL-77GuV0P5V"
      }
    },
    {
      "cell_type": "code",
      "source": [
        "a = [29, 10, 14, 37, 13]\n",
        "print(a)\n",
        "for i in range(1,len(a)):\n",
        "  hold = a[i]\n",
        "  j = i-1\n",
        "  while j > -1 and hold < a[j]:\n",
        "    a[j+1] = a[j]\n",
        "    j -= 1\n",
        "  a[j+1] = hold\n",
        "print(a)"
      ],
      "metadata": {
        "colab": {
          "base_uri": "https://localhost:8080/"
        },
        "id": "gtMuhqNfzek3",
        "outputId": "15c41763-7b9c-4a6d-e089-c4c0e2c5e2e7"
      },
      "execution_count": 18,
      "outputs": [
        {
          "output_type": "stream",
          "name": "stdout",
          "text": [
            "[29, 10, 14, 37, 13]\n",
            "[10, 13, 14, 29, 37]\n"
          ]
        }
      ]
    },
    {
      "cell_type": "markdown",
      "source": [
        "\\\n",
        "***`Merge sort: Split Split Split - Join Join Join \\\n",
        "O: All case (n log (n))`***"
      ],
      "metadata": {
        "id": "8j-8EGWG2Wio"
      }
    },
    {
      "cell_type": "code",
      "source": [
        "import numpy as np\n",
        "import random\n",
        "a = np.arange(20,dtype='int')\n",
        "for i in range(0, 20):\n",
        "  a[i] = random.randint(0,20)\n",
        "\n",
        "def merge_sort(list): #recursion แน่นๆ\n",
        "  list_length = len(list)\n",
        "  if list_length == 1:\n",
        "    return list\n",
        "  mid = list_length//2\n",
        "  left_partition = merge_sort(list[:mid])\n",
        "  right_partition = merge_sort(list[mid:])\n",
        "  return merge(left_partition,right_partition)\n",
        "\n",
        "def merge(left, right):\n",
        "  output = []\n",
        "  i = j = 0\n",
        "  while i < len(left) and j < len(right):\n",
        "    if left[i] < right[j]:\n",
        "      output.append(left[i])\n",
        "      i+=1\n",
        "    else:\n",
        "      output.append(right[j])\n",
        "      j+=1\n",
        "  output.extend(left[i:])\n",
        "  output.extend(right[j:])\n",
        "\n",
        "  return output\n",
        "\n",
        "#Main\n",
        "print(a)\n",
        "a = merge_sort(a)\n",
        "print(a)"
      ],
      "metadata": {
        "colab": {
          "base_uri": "https://localhost:8080/"
        },
        "outputId": "ddfb5f96-2c5c-42ef-986d-ea995a7a7484",
        "id": "p5Xfd3JR2Wix"
      },
      "execution_count": 19,
      "outputs": [
        {
          "output_type": "stream",
          "name": "stdout",
          "text": [
            "[10  0 14 20 18  8  1  6 10 20 13 17 16  9 13  4 17  6  5 14]\n",
            "[0, 1, 4, 5, 6, 6, 8, 9, 10, 10, 13, 13, 14, 14, 16, 17, 17, 18, 20, 20]\n"
          ]
        }
      ]
    },
    {
      "cell_type": "markdown",
      "source": [
        "***`This is how you random set of num`***\n",
        "\n",
        "\n",
        "import numpy as np\\\n",
        "import random\\\n",
        "a = np.arange(20,dtype='int')\\\n",
        "for i in range(0, 20):\\\n",
        "> a[i] = random.randint(0,20)\n",
        "\n",
        "\n"
      ],
      "metadata": {
        "id": "4BVvGnqB204A"
      }
    },
    {
      "cell_type": "markdown",
      "source": [
        "# **`Unique and iteration shit`**"
      ],
      "metadata": {
        "id": "gEvR6AWd4wr9"
      }
    },
    {
      "cell_type": "markdown",
      "source": [
        "**`Find set of 'Uniq' num`** \\\n",
        "**`Psuedo code be like`** \\\n",
        "Step 1: Start \\\n",
        "Step 2: Import the randint from the random module \\\n",
        "Step 3: Create an empty list named 'a' \\\n",
        "Step 4: Repeat 20 times: \\\n",
        "    Step 4.1: Generate a random number between 1 and 10 (inclusive) and add it to the 'a' list. \\\n",
        "Step 5: Show the message \"Random array =\" followed by the contents of the 'a' list. \\\n",
        "Step 6: Create an empty list named 'uniq' \\\n",
        "Step 7: For each number 'num' in the 'a' list: \\\n",
        "    Step 7.1: Set a counter 'c' to 0. \\\n",
        "    Step 7.2: For each number 'element' in the 'a' list: \\\n",
        "        Step 7.2.1: If 'element' is equal to 'num', increment the counter 'c' by 1. \\\n",
        "    Step 7.3: If 'c' is equal to 1, add 'num' to the 'uniq' list. \\\n",
        "Step 8: Show the message \"Uniqueness number =\" followed by the contents of the 'uniq' list. \\\n",
        "Step 9: Stop"
      ],
      "metadata": {
        "id": "tXPOyVbYyt5h"
      }
    },
    {
      "cell_type": "markdown",
      "source": [
        "![image_2023-08-04_183748170.png](data:image/png;base64,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)"
      ],
      "metadata": {
        "id": "43Sc_BwWy3-b"
      }
    },
    {
      "cell_type": "code",
      "source": [
        "from random import randint\n",
        "\n",
        "a = []\n",
        "\n",
        "for i in range(20):\n",
        "  a.append(randint(1,10))\n",
        "\n",
        "print(f\"Random array = {a}\")\n",
        "\n",
        "uniq = []\n",
        "for i in a:\n",
        "  c = 0\n",
        "  for j in range(len(a)):\n",
        "    if a[j] == i:\n",
        "      c += 1\n",
        "  if c == 1:\n",
        "    uniq.append(i)\n",
        "\n",
        "print(f\"Uniqeness number = {uniq}\")"
      ],
      "metadata": {
        "colab": {
          "base_uri": "https://localhost:8080/"
        },
        "id": "yJSDA8CTypVh",
        "outputId": "cf745803-e3bd-49c0-dd6f-63152a5be35a"
      },
      "execution_count": 20,
      "outputs": [
        {
          "output_type": "stream",
          "name": "stdout",
          "text": [
            "Random array = [8, 3, 1, 4, 4, 6, 1, 5, 10, 7, 10, 2, 3, 3, 4, 1, 9, 4, 5, 5]\n",
            "Uniqeness number = [8, 6, 7, 2, 9]\n"
          ]
        }
      ]
    },
    {
      "cell_type": "markdown",
      "source": [
        "\\\n",
        "**`Max uniq num`**"
      ],
      "metadata": {
        "id": "AaCnA8P45Pai"
      }
    },
    {
      "cell_type": "code",
      "source": [
        "from random import randint\n",
        "\n",
        "a = []\n",
        "\n",
        "for i in range(20):\n",
        "  a.append(randint(1,15))\n",
        "\n",
        "print(f\"Random array = {a}\")\n",
        "\n",
        "uniq = []\n",
        "for i in a:\n",
        "  c = 0\n",
        "  for j in range(len(a)):\n",
        "    if a[j] == i:\n",
        "      c += 1\n",
        "  if c == 1:\n",
        "    uniq.append(i)\n",
        "\n",
        "print(f\"Uniqeness number = {uniq}\")\n",
        "\n",
        "max = uniq[0]\n",
        "for i in range(len(uniq)):\n",
        "  if max < uniq[i]:\n",
        "    max = uniq[i]\n",
        "\n",
        "print(f\"This is maximum number of uniqeness = {max}\")"
      ],
      "metadata": {
        "colab": {
          "base_uri": "https://localhost:8080/"
        },
        "id": "QRrLJQYS5PjZ",
        "outputId": "5417c871-423a-430a-e9be-5d20a7412532"
      },
      "execution_count": 21,
      "outputs": [
        {
          "output_type": "stream",
          "name": "stdout",
          "text": [
            "Random array = [11, 9, 1, 5, 2, 15, 4, 15, 15, 9, 6, 14, 15, 3, 1, 8, 12, 3, 6, 1]\n",
            "Uniqeness number = [11, 5, 2, 4, 14, 8, 12]\n",
            "This is maximum number of uniqeness = 14\n"
          ]
        }
      ]
    },
    {
      "cell_type": "markdown",
      "source": [
        "\\\n",
        "**`Non-repeat num`**"
      ],
      "metadata": {
        "id": "D55bW0hE5d06"
      }
    },
    {
      "cell_type": "code",
      "source": [
        "from random import randint\n",
        "\n",
        "a = []\n",
        "nrep = []\n",
        "\n",
        "for i in range(20):\n",
        "  a.append(randint(1,15))\n",
        "\n",
        "print(f\"Random array = {a}\")\n",
        "\n",
        "max = a[0]\n",
        "for i in range(len(a)):\n",
        "  if max < a[i]:\n",
        "    max = a[i]\n",
        "\n",
        "for i in range(max + 1):\n",
        "  c = 0\n",
        "  for j in range(len(a)):\n",
        "    if i == a[j]:\n",
        "      c += 1\n",
        "  if c != 0:\n",
        "    nrep.append(i)\n",
        "\n",
        "print(f\"Non repeating number = {nrep}\")"
      ],
      "metadata": {
        "colab": {
          "base_uri": "https://localhost:8080/"
        },
        "id": "kLplaOqj5d1C",
        "outputId": "2a3329d7-959c-4aeb-e58e-de734124794e"
      },
      "execution_count": 22,
      "outputs": [
        {
          "output_type": "stream",
          "name": "stdout",
          "text": [
            "Random array = [14, 9, 5, 13, 14, 15, 5, 7, 12, 11, 11, 14, 3, 15, 3, 3, 15, 8, 6, 7]\n",
            "Non repeating number = [3, 5, 6, 7, 8, 9, 11, 12, 13, 14, 15]\n"
          ]
        }
      ]
    },
    {
      "cell_type": "markdown",
      "source": [
        "\\\n",
        "**`Max iteration, Frequency`**"
      ],
      "metadata": {
        "id": "LOTfaq7d5uuM"
      }
    },
    {
      "cell_type": "markdown",
      "source": [
        "\n",
        "```\n",
        "Counting the frequency of an item in an array\n",
        "```"
      ],
      "metadata": {
        "id": "H22emPrc93qz"
      }
    },
    {
      "cell_type": "code",
      "source": [
        "from random import randint\n",
        "\n",
        "a = []\n",
        "anw = []\n",
        "\n",
        "for i in range(30):\n",
        "  a.append(randint(1,10))\n",
        "\n",
        "print(f\"Random array = {a}\")\n",
        "\n",
        "maxi = a[0]\n",
        "for i in range(len(a)):\n",
        "  if maxi < a[i]:\n",
        "    maxi = a[i]\n",
        "\n",
        "for i in range(maxi+1):\n",
        "  c = 0\n",
        "  for j in range(len(a)):\n",
        "    if i == a[j]:\n",
        "      c += 1\n",
        "  anw.append([i, c])\n",
        "  print([i, c])\n",
        "\n",
        "index = 0 #find max num of the array\n",
        "max = anw[0][1]\n",
        "for i in range(maxi):\n",
        "  if max < anw[i][1]:\n",
        "    max = anw[i][1]\n",
        "    index = i\n",
        "\n",
        "sls = [] #find other max num of the array\n",
        "sls.append(index)\n",
        "\n",
        "for i in range(maxi):\n",
        "  if max == anw[i][1] and sls[0] != i:\n",
        "      sls.append(i)\n",
        "\n",
        "\n",
        "for x in sls:\n",
        "  print(f\"The maximum number of iterations = {anw[x][0]}\")\n",
        "print(f\"The maximum iterations = {anw[sls[0]][1]}\")"
      ],
      "metadata": {
        "colab": {
          "base_uri": "https://localhost:8080/"
        },
        "outputId": "6640729b-2fca-4bd7-c8fe-ca502801138c",
        "id": "EbrBnuM15uuM"
      },
      "execution_count": 23,
      "outputs": [
        {
          "output_type": "stream",
          "name": "stdout",
          "text": [
            "Random array = [5, 1, 10, 7, 4, 6, 2, 2, 5, 9, 10, 8, 6, 3, 7, 7, 7, 6, 5, 6, 6, 3, 2, 7, 2, 5, 6, 2, 2, 5]\n",
            "[0, 0]\n",
            "[1, 1]\n",
            "[2, 6]\n",
            "[3, 2]\n",
            "[4, 1]\n",
            "[5, 5]\n",
            "[6, 6]\n",
            "[7, 5]\n",
            "[8, 1]\n",
            "[9, 1]\n",
            "[10, 2]\n",
            "The maximum number of iterations = 2\n",
            "The maximum number of iterations = 6\n",
            "The maximum iterations = 6\n"
          ]
        }
      ]
    },
    {
      "cell_type": "markdown",
      "source": [
        "# **`Search method`**\n",
        "\n"
      ],
      "metadata": {
        "id": "VIH-Ltvu6ERw"
      }
    },
    {
      "cell_type": "markdown",
      "source": [
        "```\n",
        "design an algorithm to find position of an element in an array\n",
        "```"
      ],
      "metadata": {
        "id": "ZMgTMgCD9ihC"
      }
    },
    {
      "cell_type": "markdown",
      "source": [
        "**`Binary Search`**"
      ],
      "metadata": {
        "id": "HCMSPRLX6Nex"
      }
    },
    {
      "cell_type": "code",
      "source": [
        "a = [1, 2, 3, 4, 6, 7, 8, 9, 10]\n",
        "def binary_search(arr, low, high, x):\n",
        "  if high >= low:\n",
        "    mid = (high + low)//2\n",
        "\n",
        "    if arr[mid] == x:\n",
        "      return mid\n",
        "    elif arr[mid] > x:\n",
        "      return binary_search(arr,low, mid-1,x)\n",
        "    else:\n",
        "      return binary_search(arr,mid+1, high,x)\n",
        "  else:\n",
        "    return -1\n",
        "\n",
        "pos = binary_search(a,1,10,9) #search in a, lowest = 1, highest = 10, find = 9\n",
        "print(f\"position = {pos}\\nNum in pos[{pos}] = {a[pos]}\")"
      ],
      "metadata": {
        "colab": {
          "base_uri": "https://localhost:8080/"
        },
        "id": "RRPBu3Km6NSJ",
        "outputId": "4662262d-dc9e-4cd2-fdc9-05a974aa0469"
      },
      "execution_count": 24,
      "outputs": [
        {
          "output_type": "stream",
          "name": "stdout",
          "text": [
            "position = 7\n",
            "Num in pos[7] = 9\n"
          ]
        }
      ]
    },
    {
      "cell_type": "markdown",
      "source": [
        "\\\n",
        "**`Linear Search`**"
      ],
      "metadata": {
        "id": "T7hHHgRJ7LPM"
      }
    },
    {
      "cell_type": "code",
      "source": [
        "a = [1, 2, 3, 4, 6, 7, 8, 9, 10]\n",
        "def lin_search(arr, n, x):\n",
        "  for i in range(0, n):\n",
        "    if(arr[i] == x):\n",
        "      return i\n",
        "  return -1\n",
        "\n",
        "pos = lin_search(a,len(a),8) #search in a, len(a) = 9, find = 8\n",
        "print(f\"position = {pos}\\nNum in pos[{pos}] = {a[pos]}\")"
      ],
      "metadata": {
        "colab": {
          "base_uri": "https://localhost:8080/"
        },
        "outputId": "5aead2f1-24d9-44e8-fa3c-e9e7a1abb541",
        "id": "hlkpgjZD7LPN"
      },
      "execution_count": 25,
      "outputs": [
        {
          "output_type": "stream",
          "name": "stdout",
          "text": [
            "position = 6\n",
            "Num in pos[6] = 8\n"
          ]
        }
      ]
    },
    {
      "cell_type": "markdown",
      "source": [
        "# **`Plot Big(o)`**"
      ],
      "metadata": {
        "id": "QWGsYnE68DaG"
      }
    },
    {
      "cell_type": "code",
      "source": [
        "import matplotlib.pyplot as plt\n",
        "import numpy as np\n",
        "import math\n",
        "\n",
        "MX = 50\n",
        "a = np.arange(1,MX)\n",
        "a_log = []\n",
        "a_lin = []\n",
        "a_loglin = []\n",
        "a_qua = []\n",
        "a_cub = []\n",
        "a_exp = []\n",
        "a_fac = []\n",
        "\n",
        "for i in range(len(a)):\n",
        "  a_log.append(math.log(a[i]))\n",
        "  a_lin.append(a[i])\n",
        "  a_loglin.append(a[i]*math.log(a[i]))\n",
        "  a_qua.append(math.pow(a[i], 2))\n",
        "  a_cub.append(math.pow(a[i], 3))\n",
        "  a_exp.append(math.pow(2, a[i]))\n",
        "  a_fac.append(math.factorial(a[i]))\n",
        "\n",
        "plt.plot(a, a_log, label = 'log n', linestyle=\"-\")\n",
        "plt.plot(a, a_lin, label = 'n', linestyle=\"-\")\n",
        "plt.plot(a, a_loglin, label = 'n log n', linestyle=\"-\")\n",
        "plt.plot(a, a_qua, label = 'n²', linestyle=\"-\")\n",
        "plt.plot(a, a_cub, label = 'n³', linestyle=\"-\")\n",
        "plt.plot(a, a_exp, label = '2ⁿ', linestyle=\"-\")\n",
        "plt.plot(a, a_fac, label = 'n!', linestyle=\"-\")\n",
        "plt.legend()\n",
        "plt.xlim([1, MX])\n",
        "plt.ylim([0, MX])\n",
        "plt.show()\n",
        "print(f\"LOG = {a_log}\\nLIN = {a_lin}\\nLOGLIN = {a_loglin}\\nQUA = {a_qua}\\nCUB = {a_cub}\\nEXP = {a_exp}\\nFAC = {a_fac}\")"
      ],
      "metadata": {
        "colab": {
          "base_uri": "https://localhost:8080/",
          "height": 583
        },
        "id": "I-nviuvr8BM4",
        "outputId": "095342ff-daf7-4253-cecf-f082575cfeb3"
      },
      "execution_count": 26,
      "outputs": [
        {
          "output_type": "display_data",
          "data": {
            "text/plain": [
              "<Figure size 640x480 with 1 Axes>"
            ],
            "image/png": "[encoded data removed]"
          },
          "metadata": {}
        },
        {
          "output_type": "stream",
          "name": "stdout",
          "text": [
            "LOG = [0.0, 0.6931471805599453, 1.0986122886681098, 1.3862943611198906, 1.6094379124341003, 1.791759469228055, 1.9459101490553132, 2.0794415416798357, 2.1972245773362196, 2.302585092994046, 2.3978952727983707, 2.4849066497880004, 2.5649493574615367, 2.6390573296152584, 2.70805020110221, 2.772588722239781, 2.833213344056216, 2.8903717578961645, 2.9444389791664403, 2.995732273553991, 3.044522437723423, 3.091042453358316, 3.1354942159291497, 3.1780538303479458, 3.2188758248682006, 3.258096538021482, 3.295836866004329, 3.332204510175204, 3.367295829986474, 3.4011973816621555, 3.4339872044851463, 3.4657359027997265, 3.4965075614664802, 3.5263605246161616, 3.5553480614894135, 3.58351893845611, 3.6109179126442243, 3.6375861597263857, 3.6635616461296463, 3.6888794541139363, 3.713572066704308, 3.7376696182833684, 3.7612001156935624, 3.784189633918261, 3.8066624897703196, 3.828641396489095, 3.8501476017100584, 3.871201010907891, 3.8918202981106265]\n",
            "LIN = [1, 2, 3, 4, 5, 6, 7, 8, 9, 10, 11, 12, 13, 14, 15, 16, 17, 18, 19, 20, 21, 22, 23, 24, 25, 26, 27, 28, 29, 30, 31, 32, 33, 34, 35, 36, 37, 38, 39, 40, 41, 42, 43, 44, 45, 46, 47, 48, 49]\n",
            "LOGLIN = [0.0, 1.3862943611198906, 3.295836866004329, 5.545177444479562, 8.047189562170502, 10.75055681536833, 13.621371043387192, 16.635532333438686, 19.775021196025975, 23.02585092994046, 26.376848000782076, 29.818879797456006, 33.34434164699998, 36.94680261461362, 40.62075301653315, 44.3614195558365, 48.16462684895568, 52.02669164213096, 55.94434060416236, 59.914645471079815, 63.93497119219188, 68.00293397388296, 72.11636696637044, 76.2732919283507, 80.47189562170502, 84.71050998855854, 88.9875953821169, 93.30172628490571, 97.65157906960775, 102.03592144986466, 106.45360333903953, 110.90354888959125, 115.38474952839385, 119.89625783694949, 124.43718215212947, 129.00668178441995, 133.6039627678363, 138.22827406960266, 142.8789041990562, 147.55517816455745, 152.25645473487663, 156.9821239679015, 161.73160497482317, 166.50434389240348, 171.29981203966437, 176.11750423849838, 180.95693728037276, 185.81764852357878, 190.6991946074207]\n",
            "QUA = [1.0, 4.0, 9.0, 16.0, 25.0, 36.0, 49.0, 64.0, 81.0, 100.0, 121.0, 144.0, 169.0, 196.0, 225.0, 256.0, 289.0, 324.0, 361.0, 400.0, 441.0, 484.0, 529.0, 576.0, 625.0, 676.0, 729.0, 784.0, 841.0, 900.0, 961.0, 1024.0, 1089.0, 1156.0, 1225.0, 1296.0, 1369.0, 1444.0, 1521.0, 1600.0, 1681.0, 1764.0, 1849.0, 1936.0, 2025.0, 2116.0, 2209.0, 2304.0, 2401.0]\n",
            "CUB = [1.0, 8.0, 27.0, 64.0, 125.0, 216.0, 343.0, 512.0, 729.0, 1000.0, 1331.0, 1728.0, 2197.0, 2744.0, 3375.0, 4096.0, 4913.0, 5832.0, 6859.0, 8000.0, 9261.0, 10648.0, 12167.0, 13824.0, 15625.0, 17576.0, 19683.0, 21952.0, 24389.0, 27000.0, 29791.0, 32768.0, 35937.0, 39304.0, 42875.0, 46656.0, 50653.0, 54872.0, 59319.0, 64000.0, 68921.0, 74088.0, 79507.0, 85184.0, 91125.0, 97336.0, 103823.0, 110592.0, 117649.0]\n",
            "EXP = [2.0, 4.0, 8.0, 16.0, 32.0, 64.0, 128.0, 256.0, 512.0, 1024.0, 2048.0, 4096.0, 8192.0, 16384.0, 32768.0, 65536.0, 131072.0, 262144.0, 524288.0, 1048576.0, 2097152.0, 4194304.0, 8388608.0, 16777216.0, 33554432.0, 67108864.0, 134217728.0, 268435456.0, 536870912.0, 1073741824.0, 2147483648.0, 4294967296.0, 8589934592.0, 17179869184.0, 34359738368.0, 68719476736.0, 137438953472.0, 274877906944.0, 549755813888.0, 1099511627776.0, 2199023255552.0, 4398046511104.0, 8796093022208.0, 17592186044416.0, 35184372088832.0, 70368744177664.0, 140737488355328.0, 281474976710656.0, 562949953421312.0]\n",
            "FAC = [1, 2, 6, 24, 120, 720, 5040, 40320, 362880, 3628800, 39916800, 479001600, 6227020800, 87178291200, 1307674368000, 20922789888000, 355687428096000, 6402373705728000, 121645100408832000, 2432902008176640000, 51090942171709440000, 1124000727777607680000, 25852016738884976640000, 620448401733239439360000, 15511210043330985984000000, 403291461126605635584000000, 10888869450418352160768000000, 304888344611713860501504000000, 8841761993739701954543616000000, 265252859812191058636308480000000, 8222838654177922817725562880000000, 263130836933693530167218012160000000, 8683317618811886495518194401280000000, 295232799039604140847618609643520000000, 10333147966386144929666651337523200000000, 371993326789901217467999448150835200000000, 13763753091226345046315979581580902400000000, 523022617466601111760007224100074291200000000, 20397882081197443358640281739902897356800000000, 815915283247897734345611269596115894272000000000, 33452526613163807108170062053440751665152000000000, 1405006117752879898543142606244511569936384000000000, 60415263063373835637355132068513997507264512000000000, 2658271574788448768043625811014615890319638528000000000, 119622220865480194561963161495657715064383733760000000000, 5502622159812088949850305428800254892961651752960000000000, 258623241511168180642964355153611979969197632389120000000000, 12413915592536072670862289047373375038521486354677760000000000, 608281864034267560872252163321295376887552831379210240000000000]\n"
          ]
        }
      ]
    },
    {
      "cell_type": "markdown",
      "source": [
        "# **`BONUS`**\n",
        "\n"
      ],
      "metadata": {
        "id": "TP_zY_yl-lpY"
      }
    },
    {
      "cell_type": "markdown",
      "source": [
        "\n",
        "```\n",
        "Counting the frequency of an item in an array\n",
        "```"
      ],
      "metadata": {
        "id": "6nekcQqm-sT6"
      }
    },
    {
      "cell_type": "code",
      "source": [
        "from random import randint\n",
        "a = []\n",
        "anw = []\n",
        "\n",
        "for i in range(30):\n",
        "  a.append(randint(1,10))\n",
        "\n",
        "print(f\"Random array = {a}\")\n",
        "\n",
        "maxi = a[0]\n",
        "for i in range(len(a)):\n",
        "  if maxi < a[i]:\n",
        "    maxi = a[i]\n",
        "\n",
        "for i in range(maxi+1):\n",
        "  c = 0\n",
        "  for j in range(len(a)):\n",
        "    if i == a[j]:\n",
        "      c += 1\n",
        "  anw.append([i, c])\n",
        "  print([i, c])\n",
        "\n",
        "#Find frequency of some num\n",
        "while True:\n",
        "  inp = int(input(\"Find frequency of :\"))\n",
        "  index = -1\n",
        "  for i in range(len(anw)):\n",
        "    if anw[i][0] == inp:\n",
        "      index = i\n",
        "\n",
        "  if index == -1:\n",
        "    print(f\"Not in set\")\n",
        "    break;\n",
        "  else:\n",
        "    print(f\"Input is {anw[index][0]}\")\n",
        "    print(f\"The frequency of {anw[index][0]} is {anw[index][1]}\")"
      ],
      "metadata": {
        "colab": {
          "base_uri": "https://localhost:8080/"
        },
        "outputId": "9e21abf2-1d26-42f4-f0ea-254995740311",
        "id": "F3eNdb1Q-sT6"
      },
      "execution_count": 15,
      "outputs": [
        {
          "output_type": "stream",
          "name": "stdout",
          "text": [
            "Random array = [3, 10, 5, 6, 2, 5, 1, 3, 3, 8, 3, 8, 3, 2, 2, 2, 8, 6, 1, 1, 6, 9, 4, 5, 8, 10, 9, 6, 2, 6]\n",
            "[0, 0]\n",
            "[1, 3]\n",
            "[2, 5]\n",
            "[3, 5]\n",
            "[4, 1]\n",
            "[5, 3]\n",
            "[6, 5]\n",
            "[7, 0]\n",
            "[8, 4]\n",
            "[9, 2]\n",
            "[10, 2]\n",
            "Find frequency of :5\n",
            "Input is 5\n",
            "The frequency of 5 is 3\n",
            "Find frequency of :4\n",
            "Input is 4\n",
            "The frequency of 4 is 1\n",
            "Find frequency of :11\n",
            "Not in set\n"
          ]
        }
      ]
    }
  ]
}